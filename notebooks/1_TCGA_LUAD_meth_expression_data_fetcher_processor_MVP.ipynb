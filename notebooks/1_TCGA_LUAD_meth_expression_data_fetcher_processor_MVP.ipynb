{
  "cells": [
    {
      "cell_type": "markdown",
      "source": [
        "# Data Upload & Processing — Fetch TCGA_LUAD Expression & Methylation  + Data Processing\n",
        "Purpose: This notebook downloads TCGA_LUAD Expression (RNAseq) & Methylation (array) from tumor and normal samples.Does data processing and handling the missing data and alighns tumor/noramal matched samples.\n",
        "\n",
        "## Input files expected: (upload from UCSC Xena public links ):\n",
        "\n",
        "- `meth_url`: (\"https://tcga.xenahubs.net/download/TCGA.LUADsampleMap/HumanMethylation450.gz\") : samples × CPGs (β-values; row index = sample IDs)\n",
        "- `expr_url`: (\"https://tcga.xenahubs.net/download/TCGA.LUAD.sampleMap/HiSeqV2.gz\") : samples × genes (expression values as fold change, row index = sample IDs)\n",
        "\n",
        "## Outputs produced:\n",
        "- `X_meth.csv` : Processed data of samples × DMRs (β-values; row index = sample IDs)\n",
        "\n",
        "- `Y_expr.csv` : Processed data of samples × genes (normalized expression)\n",
        "\n",
        "- `methylation_data_matched.csv`: Methylation data for pairs of matched tumor and normal samples (CPGs β-values; row index = sample IDs)\n",
        "\n",
        "- `expression_data_matched.CSV`: Expression data for pairs of matched tumor and normal samples (expression values as fold change, row index = sample IDs)\n",
        "\n",
        "- `long_format_tumor_normal_samples.csv`: sample metadata with columns sampleID, condition (Tumor/Normal), optional patientID\n",
        "\n",
        "- `y_labels.csv`: Samples and their clinical status with columns sample_id, label (\"Tumor\": 1, \"Normal\": 0)\n"
      ],
      "metadata": {
        "id": "k_jtDkmNbA9W"
      },
      "id": "k_jtDkmNbA9W"
    },
    {
      "cell_type": "markdown",
      "source": [
        "## 1) Install & Imports"
      ],
      "metadata": {
        "id": "oyELyTiHfciw"
      },
      "id": "oyELyTiHfciw"
    },
    {
      "cell_type": "code",
      "execution_count": null,
      "id": "5b8b8f85-e324-4f28-a95a-cf1f57007f87",
      "metadata": {
        "id": "5b8b8f85-e324-4f28-a95a-cf1f57007f87"
      },
      "outputs": [],
      "source": [
        "# This script uses UCSC Xena-hosted TCGA data for LUAD (Lung Adenocarcinoma)\n",
        "# It downloads methylation and expression data and matches tumor-normal pairs\n",
        "\n",
        "import pandas as pd\n",
        "import numpy as np\n",
        "from sklearn.impute import SimpleImputer\n",
        "from sklearn.preprocessing import StandardScaler"
      ]
    },
    {
      "cell_type": "markdown",
      "source": [
        "## 2) Setup & upload\n",
        "\n",
        "\n"
      ],
      "metadata": {
        "id": "cU5Q1q5JfpQS"
      },
      "id": "cU5Q1q5JfpQS"
    },
    {
      "cell_type": "code",
      "execution_count": null,
      "id": "0a34f372-2b4a-4417-aa72-021dce3ef8ac",
      "metadata": {
        "id": "0a34f372-2b4a-4417-aa72-021dce3ef8ac",
        "colab": {
          "base_uri": "https://localhost:8080/"
        },
        "outputId": "49d3bee0-3b24-45d1-887a-63d56018474b"
      },
      "outputs": [
        {
          "output_type": "stream",
          "name": "stdout",
          "text": [
            "Shapes of methylation and expression files:\n",
            "Methylation (samples x DMRs): (492, 485577)\n",
            "Expression (samples x genes): (576, 20530)\n"
          ]
        }
      ],
      "source": [
        "# === 1. Download methylation and expression data ===\n",
        "# UCSC Xena public links for TCGA-LUAD\n",
        "meth_url = \"https://tcga.xenahubs.net/download/TCGA.LUAD.sampleMap/HumanMethylation450.gz\"\n",
        "expr_url = \"https://tcga.xenahubs.net/download/TCGA.LUAD.sampleMap/HiSeqV2.gz\"\n",
        "\n",
        "# Read both datasets\n",
        "meth_df = pd.read_csv(meth_url, sep='\\t', index_col=0)\n",
        "expr_df = pd.read_csv(expr_url, sep='\\t', index_col=0)\n",
        "\n",
        "# Transpose to have samples as rows\n",
        "meth_df = meth_df.T\n",
        "expr_df = expr_df.T\n",
        "\n",
        "print('Shapes of methylation and expression files:')\n",
        "print('Methylation (samples x DMRs):', meth_df.shape)\n",
        "print('Expression (samples x genes):', expr_df.shape)"
      ]
    },
    {
      "cell_type": "code",
      "source": [
        "expr_df.head()"
      ],
      "metadata": {
        "colab": {
          "base_uri": "https://localhost:8080/",
          "height": 516
        },
        "id": "pw-pX8_GHvMV",
        "outputId": "228fd4f6-97b3-4992-ca34-a48e87181b03"
      },
      "id": "pw-pX8_GHvMV",
      "execution_count": null,
      "outputs": [
        {
          "output_type": "execute_result",
          "data": {
            "text/plain": [
              "sample           ARHGEF10L    HIF3A   RNF17    RNF10    RNF11    RNF13  \\\n",
              "TCGA-69-7978-01     9.9898   4.2598  0.4181  10.3657  11.1718  10.5897   \n",
              "TCGA-62-8399-01    10.4257  11.6239  0.0000  11.5489  11.0200   9.2843   \n",
              "TCGA-78-7539-01     9.6264   9.1362  1.1231  11.6692  10.4679  10.4649   \n",
              "TCGA-50-5931-11     8.6835   9.4824  0.8221  11.7341  11.6787  11.5412   \n",
              "TCGA-73-4658-01     9.2078   5.0288  0.0000  11.6209  11.3414  10.9376   \n",
              "\n",
              "sample           GTF2IP1    REM1   MTVR2  RTN4RL2  ...   TULP2   NPY5R  \\\n",
              "TCGA-69-7978-01  12.2708  4.7670  0.0000   8.2023  ...  1.8836  0.7420   \n",
              "TCGA-62-8399-01  12.1540  5.7125  0.4628   5.5819  ...  0.4628  1.5316   \n",
              "TCGA-78-7539-01  12.6559  4.3943  0.3725   3.5365  ...  2.9588  0.0000   \n",
              "TCGA-50-5931-11  11.9285  5.9466  0.8221   3.3528  ...  0.0000  2.4876   \n",
              "TCGA-73-4658-01  12.0539  6.0942  0.0000   7.4156  ...  0.0000  0.6557   \n",
              "\n",
              "sample            GNGT2   GNGT1   TULP3     PTRF   BCL6B    GSTK1    SELP  \\\n",
              "TCGA-69-7978-01  6.2348  0.0000  9.4520  12.7565  8.2668  11.2400  6.1209   \n",
              "TCGA-62-8399-01  4.4464  1.3294  9.5226  12.2100  8.5437  10.3491  8.6398   \n",
              "TCGA-78-7539-01  6.0400  3.9201  9.2765  10.6498  6.1814  11.1659  6.0970   \n",
              "TCGA-50-5931-11  6.3782  0.0000  8.6781  14.6956  9.7151  10.5910  9.5115   \n",
              "TCGA-73-4658-01  6.3898  1.1048  9.2697  13.0036  8.9786  10.6777  8.4187   \n",
              "\n",
              "sample              SELS  \n",
              "TCGA-69-7978-01   9.8977  \n",
              "TCGA-62-8399-01   9.7315  \n",
              "TCGA-78-7539-01  10.3540  \n",
              "TCGA-50-5931-11  10.4914  \n",
              "TCGA-73-4658-01  10.3142  \n",
              "\n",
              "[5 rows x 20530 columns]"
            ],
            "text/html": [
              "\n",
              "  <div id=\"df-e48cb884-408c-45de-9f52-a5538827fef0\" class=\"colab-df-container\">\n",
              "    <div>\n",
              "<style scoped>\n",
              "    .dataframe tbody tr th:only-of-type {\n",
              "        vertical-align: middle;\n",
              "    }\n",
              "\n",
              "    .dataframe tbody tr th {\n",
              "        vertical-align: top;\n",
              "    }\n",
              "\n",
              "    .dataframe thead th {\n",
              "        text-align: right;\n",
              "    }\n",
              "</style>\n",
              "<table border=\"1\" class=\"dataframe\">\n",
              "  <thead>\n",
              "    <tr style=\"text-align: right;\">\n",
              "      <th>sample</th>\n",
              "      <th>ARHGEF10L</th>\n",
              "      <th>HIF3A</th>\n",
              "      <th>RNF17</th>\n",
              "      <th>RNF10</th>\n",
              "      <th>RNF11</th>\n",
              "      <th>RNF13</th>\n",
              "      <th>GTF2IP1</th>\n",
              "      <th>REM1</th>\n",
              "      <th>MTVR2</th>\n",
              "      <th>RTN4RL2</th>\n",
              "      <th>...</th>\n",
              "      <th>TULP2</th>\n",
              "      <th>NPY5R</th>\n",
              "      <th>GNGT2</th>\n",
              "      <th>GNGT1</th>\n",
              "      <th>TULP3</th>\n",
              "      <th>PTRF</th>\n",
              "      <th>BCL6B</th>\n",
              "      <th>GSTK1</th>\n",
              "      <th>SELP</th>\n",
              "      <th>SELS</th>\n",
              "    </tr>\n",
              "  </thead>\n",
              "  <tbody>\n",
              "    <tr>\n",
              "      <th>TCGA-69-7978-01</th>\n",
              "      <td>9.9898</td>\n",
              "      <td>4.2598</td>\n",
              "      <td>0.4181</td>\n",
              "      <td>10.3657</td>\n",
              "      <td>11.1718</td>\n",
              "      <td>10.5897</td>\n",
              "      <td>12.2708</td>\n",
              "      <td>4.7670</td>\n",
              "      <td>0.0000</td>\n",
              "      <td>8.2023</td>\n",
              "      <td>...</td>\n",
              "      <td>1.8836</td>\n",
              "      <td>0.7420</td>\n",
              "      <td>6.2348</td>\n",
              "      <td>0.0000</td>\n",
              "      <td>9.4520</td>\n",
              "      <td>12.7565</td>\n",
              "      <td>8.2668</td>\n",
              "      <td>11.2400</td>\n",
              "      <td>6.1209</td>\n",
              "      <td>9.8977</td>\n",
              "    </tr>\n",
              "    <tr>\n",
              "      <th>TCGA-62-8399-01</th>\n",
              "      <td>10.4257</td>\n",
              "      <td>11.6239</td>\n",
              "      <td>0.0000</td>\n",
              "      <td>11.5489</td>\n",
              "      <td>11.0200</td>\n",
              "      <td>9.2843</td>\n",
              "      <td>12.1540</td>\n",
              "      <td>5.7125</td>\n",
              "      <td>0.4628</td>\n",
              "      <td>5.5819</td>\n",
              "      <td>...</td>\n",
              "      <td>0.4628</td>\n",
              "      <td>1.5316</td>\n",
              "      <td>4.4464</td>\n",
              "      <td>1.3294</td>\n",
              "      <td>9.5226</td>\n",
              "      <td>12.2100</td>\n",
              "      <td>8.5437</td>\n",
              "      <td>10.3491</td>\n",
              "      <td>8.6398</td>\n",
              "      <td>9.7315</td>\n",
              "    </tr>\n",
              "    <tr>\n",
              "      <th>TCGA-78-7539-01</th>\n",
              "      <td>9.6264</td>\n",
              "      <td>9.1362</td>\n",
              "      <td>1.1231</td>\n",
              "      <td>11.6692</td>\n",
              "      <td>10.4679</td>\n",
              "      <td>10.4649</td>\n",
              "      <td>12.6559</td>\n",
              "      <td>4.3943</td>\n",
              "      <td>0.3725</td>\n",
              "      <td>3.5365</td>\n",
              "      <td>...</td>\n",
              "      <td>2.9588</td>\n",
              "      <td>0.0000</td>\n",
              "      <td>6.0400</td>\n",
              "      <td>3.9201</td>\n",
              "      <td>9.2765</td>\n",
              "      <td>10.6498</td>\n",
              "      <td>6.1814</td>\n",
              "      <td>11.1659</td>\n",
              "      <td>6.0970</td>\n",
              "      <td>10.3540</td>\n",
              "    </tr>\n",
              "    <tr>\n",
              "      <th>TCGA-50-5931-11</th>\n",
              "      <td>8.6835</td>\n",
              "      <td>9.4824</td>\n",
              "      <td>0.8221</td>\n",
              "      <td>11.7341</td>\n",
              "      <td>11.6787</td>\n",
              "      <td>11.5412</td>\n",
              "      <td>11.9285</td>\n",
              "      <td>5.9466</td>\n",
              "      <td>0.8221</td>\n",
              "      <td>3.3528</td>\n",
              "      <td>...</td>\n",
              "      <td>0.0000</td>\n",
              "      <td>2.4876</td>\n",
              "      <td>6.3782</td>\n",
              "      <td>0.0000</td>\n",
              "      <td>8.6781</td>\n",
              "      <td>14.6956</td>\n",
              "      <td>9.7151</td>\n",
              "      <td>10.5910</td>\n",
              "      <td>9.5115</td>\n",
              "      <td>10.4914</td>\n",
              "    </tr>\n",
              "    <tr>\n",
              "      <th>TCGA-73-4658-01</th>\n",
              "      <td>9.2078</td>\n",
              "      <td>5.0288</td>\n",
              "      <td>0.0000</td>\n",
              "      <td>11.6209</td>\n",
              "      <td>11.3414</td>\n",
              "      <td>10.9376</td>\n",
              "      <td>12.0539</td>\n",
              "      <td>6.0942</td>\n",
              "      <td>0.0000</td>\n",
              "      <td>7.4156</td>\n",
              "      <td>...</td>\n",
              "      <td>0.0000</td>\n",
              "      <td>0.6557</td>\n",
              "      <td>6.3898</td>\n",
              "      <td>1.1048</td>\n",
              "      <td>9.2697</td>\n",
              "      <td>13.0036</td>\n",
              "      <td>8.9786</td>\n",
              "      <td>10.6777</td>\n",
              "      <td>8.4187</td>\n",
              "      <td>10.3142</td>\n",
              "    </tr>\n",
              "  </tbody>\n",
              "</table>\n",
              "<p>5 rows × 20530 columns</p>\n",
              "</div>\n",
              "    <div class=\"colab-df-buttons\">\n",
              "\n",
              "  <div class=\"colab-df-container\">\n",
              "    <button class=\"colab-df-convert\" onclick=\"convertToInteractive('df-e48cb884-408c-45de-9f52-a5538827fef0')\"\n",
              "            title=\"Convert this dataframe to an interactive table.\"\n",
              "            style=\"display:none;\">\n",
              "\n",
              "  <svg xmlns=\"http://www.w3.org/2000/svg\" height=\"24px\" viewBox=\"0 -960 960 960\">\n",
              "    <path d=\"M120-120v-720h720v720H120Zm60-500h600v-160H180v160Zm220 220h160v-160H400v160Zm0 220h160v-160H400v160ZM180-400h160v-160H180v160Zm440 0h160v-160H620v160ZM180-180h160v-160H180v160Zm440 0h160v-160H620v160Z\"/>\n",
              "  </svg>\n",
              "    </button>\n",
              "\n",
              "  <style>\n",
              "    .colab-df-container {\n",
              "      display:flex;\n",
              "      gap: 12px;\n",
              "    }\n",
              "\n",
              "    .colab-df-convert {\n",
              "      background-color: #E8F0FE;\n",
              "      border: none;\n",
              "      border-radius: 50%;\n",
              "      cursor: pointer;\n",
              "      display: none;\n",
              "      fill: #1967D2;\n",
              "      height: 32px;\n",
              "      padding: 0 0 0 0;\n",
              "      width: 32px;\n",
              "    }\n",
              "\n",
              "    .colab-df-convert:hover {\n",
              "      background-color: #E2EBFA;\n",
              "      box-shadow: 0px 1px 2px rgba(60, 64, 67, 0.3), 0px 1px 3px 1px rgba(60, 64, 67, 0.15);\n",
              "      fill: #174EA6;\n",
              "    }\n",
              "\n",
              "    .colab-df-buttons div {\n",
              "      margin-bottom: 4px;\n",
              "    }\n",
              "\n",
              "    [theme=dark] .colab-df-convert {\n",
              "      background-color: #3B4455;\n",
              "      fill: #D2E3FC;\n",
              "    }\n",
              "\n",
              "    [theme=dark] .colab-df-convert:hover {\n",
              "      background-color: #434B5C;\n",
              "      box-shadow: 0px 1px 3px 1px rgba(0, 0, 0, 0.15);\n",
              "      filter: drop-shadow(0px 1px 2px rgba(0, 0, 0, 0.3));\n",
              "      fill: #FFFFFF;\n",
              "    }\n",
              "  </style>\n",
              "\n",
              "    <script>\n",
              "      const buttonEl =\n",
              "        document.querySelector('#df-e48cb884-408c-45de-9f52-a5538827fef0 button.colab-df-convert');\n",
              "      buttonEl.style.display =\n",
              "        google.colab.kernel.accessAllowed ? 'block' : 'none';\n",
              "\n",
              "      async function convertToInteractive(key) {\n",
              "        const element = document.querySelector('#df-e48cb884-408c-45de-9f52-a5538827fef0');\n",
              "        const dataTable =\n",
              "          await google.colab.kernel.invokeFunction('convertToInteractive',\n",
              "                                                    [key], {});\n",
              "        if (!dataTable) return;\n",
              "\n",
              "        const docLinkHtml = 'Like what you see? Visit the ' +\n",
              "          '<a target=\"_blank\" href=https://colab.research.google.com/notebooks/data_table.ipynb>data table notebook</a>'\n",
              "          + ' to learn more about interactive tables.';\n",
              "        element.innerHTML = '';\n",
              "        dataTable['output_type'] = 'display_data';\n",
              "        await google.colab.output.renderOutput(dataTable, element);\n",
              "        const docLink = document.createElement('div');\n",
              "        docLink.innerHTML = docLinkHtml;\n",
              "        element.appendChild(docLink);\n",
              "      }\n",
              "    </script>\n",
              "  </div>\n",
              "\n",
              "\n",
              "    <div id=\"df-9887e904-bba4-4176-b1df-f9a7622dc0e4\">\n",
              "      <button class=\"colab-df-quickchart\" onclick=\"quickchart('df-9887e904-bba4-4176-b1df-f9a7622dc0e4')\"\n",
              "                title=\"Suggest charts\"\n",
              "                style=\"display:none;\">\n",
              "\n",
              "<svg xmlns=\"http://www.w3.org/2000/svg\" height=\"24px\"viewBox=\"0 0 24 24\"\n",
              "     width=\"24px\">\n",
              "    <g>\n",
              "        <path d=\"M19 3H5c-1.1 0-2 .9-2 2v14c0 1.1.9 2 2 2h14c1.1 0 2-.9 2-2V5c0-1.1-.9-2-2-2zM9 17H7v-7h2v7zm4 0h-2V7h2v10zm4 0h-2v-4h2v4z\"/>\n",
              "    </g>\n",
              "</svg>\n",
              "      </button>\n",
              "\n",
              "<style>\n",
              "  .colab-df-quickchart {\n",
              "      --bg-color: #E8F0FE;\n",
              "      --fill-color: #1967D2;\n",
              "      --hover-bg-color: #E2EBFA;\n",
              "      --hover-fill-color: #174EA6;\n",
              "      --disabled-fill-color: #AAA;\n",
              "      --disabled-bg-color: #DDD;\n",
              "  }\n",
              "\n",
              "  [theme=dark] .colab-df-quickchart {\n",
              "      --bg-color: #3B4455;\n",
              "      --fill-color: #D2E3FC;\n",
              "      --hover-bg-color: #434B5C;\n",
              "      --hover-fill-color: #FFFFFF;\n",
              "      --disabled-bg-color: #3B4455;\n",
              "      --disabled-fill-color: #666;\n",
              "  }\n",
              "\n",
              "  .colab-df-quickchart {\n",
              "    background-color: var(--bg-color);\n",
              "    border: none;\n",
              "    border-radius: 50%;\n",
              "    cursor: pointer;\n",
              "    display: none;\n",
              "    fill: var(--fill-color);\n",
              "    height: 32px;\n",
              "    padding: 0;\n",
              "    width: 32px;\n",
              "  }\n",
              "\n",
              "  .colab-df-quickchart:hover {\n",
              "    background-color: var(--hover-bg-color);\n",
              "    box-shadow: 0 1px 2px rgba(60, 64, 67, 0.3), 0 1px 3px 1px rgba(60, 64, 67, 0.15);\n",
              "    fill: var(--button-hover-fill-color);\n",
              "  }\n",
              "\n",
              "  .colab-df-quickchart-complete:disabled,\n",
              "  .colab-df-quickchart-complete:disabled:hover {\n",
              "    background-color: var(--disabled-bg-color);\n",
              "    fill: var(--disabled-fill-color);\n",
              "    box-shadow: none;\n",
              "  }\n",
              "\n",
              "  .colab-df-spinner {\n",
              "    border: 2px solid var(--fill-color);\n",
              "    border-color: transparent;\n",
              "    border-bottom-color: var(--fill-color);\n",
              "    animation:\n",
              "      spin 1s steps(1) infinite;\n",
              "  }\n",
              "\n",
              "  @keyframes spin {\n",
              "    0% {\n",
              "      border-color: transparent;\n",
              "      border-bottom-color: var(--fill-color);\n",
              "      border-left-color: var(--fill-color);\n",
              "    }\n",
              "    20% {\n",
              "      border-color: transparent;\n",
              "      border-left-color: var(--fill-color);\n",
              "      border-top-color: var(--fill-color);\n",
              "    }\n",
              "    30% {\n",
              "      border-color: transparent;\n",
              "      border-left-color: var(--fill-color);\n",
              "      border-top-color: var(--fill-color);\n",
              "      border-right-color: var(--fill-color);\n",
              "    }\n",
              "    40% {\n",
              "      border-color: transparent;\n",
              "      border-right-color: var(--fill-color);\n",
              "      border-top-color: var(--fill-color);\n",
              "    }\n",
              "    60% {\n",
              "      border-color: transparent;\n",
              "      border-right-color: var(--fill-color);\n",
              "    }\n",
              "    80% {\n",
              "      border-color: transparent;\n",
              "      border-right-color: var(--fill-color);\n",
              "      border-bottom-color: var(--fill-color);\n",
              "    }\n",
              "    90% {\n",
              "      border-color: transparent;\n",
              "      border-bottom-color: var(--fill-color);\n",
              "    }\n",
              "  }\n",
              "</style>\n",
              "\n",
              "      <script>\n",
              "        async function quickchart(key) {\n",
              "          const quickchartButtonEl =\n",
              "            document.querySelector('#' + key + ' button');\n",
              "          quickchartButtonEl.disabled = true;  // To prevent multiple clicks.\n",
              "          quickchartButtonEl.classList.add('colab-df-spinner');\n",
              "          try {\n",
              "            const charts = await google.colab.kernel.invokeFunction(\n",
              "                'suggestCharts', [key], {});\n",
              "          } catch (error) {\n",
              "            console.error('Error during call to suggestCharts:', error);\n",
              "          }\n",
              "          quickchartButtonEl.classList.remove('colab-df-spinner');\n",
              "          quickchartButtonEl.classList.add('colab-df-quickchart-complete');\n",
              "        }\n",
              "        (() => {\n",
              "          let quickchartButtonEl =\n",
              "            document.querySelector('#df-9887e904-bba4-4176-b1df-f9a7622dc0e4 button');\n",
              "          quickchartButtonEl.style.display =\n",
              "            google.colab.kernel.accessAllowed ? 'block' : 'none';\n",
              "        })();\n",
              "      </script>\n",
              "    </div>\n",
              "\n",
              "    </div>\n",
              "  </div>\n"
            ],
            "application/vnd.google.colaboratory.intrinsic+json": {
              "type": "dataframe",
              "variable_name": "expr_df"
            }
          },
          "metadata": {},
          "execution_count": 36
        }
      ]
    },
    {
      "cell_type": "markdown",
      "source": [
        "## 3) Data Processing (Handeling missing data and Imputation)\n",
        "### Methylation data processing"
      ],
      "metadata": {
        "id": "VDQKiX_JfyZy"
      },
      "id": "VDQKiX_JfyZy"
    },
    {
      "cell_type": "code",
      "execution_count": null,
      "id": "3dfef30b-ff99-428b-b775-5da41d00e65d",
      "metadata": {
        "id": "3dfef30b-ff99-428b-b775-5da41d00e65d",
        "collapsed": true
      },
      "outputs": [],
      "source": [
        "# Filter out CpGs with too much missing data\n",
        "na_threshold = 0.2\n",
        "valid_cpgs = meth_df.columns[meth_df.isna().mean() < na_threshold]\n",
        "meth_df = meth_df[valid_cpgs]\n",
        "\n",
        "# Impute missing values\n",
        "imputer = SimpleImputer(strategy=\"mean\")\n",
        "meth_imputed = imputer.fit_transform(meth_df)\n",
        "\n",
        "# Standardize features ## There is no need to normalize these beta values. They\n",
        "# are kind of normalized already since they are percentage.\n",
        "#scaler = StandardScaler()\n",
        "#meth_scaled = scaler.fit_transform(meth_imputed)\n",
        "\n",
        "# Save preprocessed matrix\n",
        "#X_meth = pd.DataFrame(meth_scaled, index=meth_df.index, columns=valid_cpgs)\n",
        "X_meth = pd.DataFrame(meth_imputed, index=meth_df.index, columns=valid_cpgs)\n",
        "X_meth.to_csv(\"X_meth.csv\")"
      ]
    },
    {
      "cell_type": "markdown",
      "source": [
        "### Expression data processing"
      ],
      "metadata": {
        "id": "bcT1z-QwiEdX"
      },
      "id": "bcT1z-QwiEdX"
    },
    {
      "cell_type": "code",
      "source": [
        "# Step 1: Drop genes with too many missing values\n",
        "missing_threshold = 0.2\n",
        "expr_df = expr_df.loc[:, expr_df.isna().mean() < missing_threshold]"
      ],
      "metadata": {
        "id": "1aYdB1Y7wIPS"
      },
      "id": "1aYdB1Y7wIPS",
      "execution_count": null,
      "outputs": []
    },
    {
      "cell_type": "code",
      "source": [
        "# Step 2: Impute remaining missing values\n",
        "expr_df = expr_df.fillna(0)  # Simple zero imputation; consider mean or KNN for better estimates"
      ],
      "metadata": {
        "id": "qzF0LvZpxmEM"
      },
      "id": "qzF0LvZpxmEM",
      "execution_count": null,
      "outputs": []
    },
    {
      "cell_type": "code",
      "source": [
        "# Step 3: Normalize (Z-score)\n",
        "scaler = StandardScaler()\n",
        "X_expr = pd.DataFrame(scaler.fit_transform(expr_df), index=expr_df.index, columns=expr_df.columns)"
      ],
      "metadata": {
        "id": "ys_V_YRdxyVo"
      },
      "id": "ys_V_YRdxyVo",
      "execution_count": null,
      "outputs": []
    },
    {
      "cell_type": "code",
      "source": [
        "# Step 4: Save result\n",
        "X_expr.to_csv(\"Y_expr.csv\")\n",
        "\n",
        "print(\"✅ Expression data preprocessing complete. Output saved as Y_expr.csv\")"
      ],
      "metadata": {
        "colab": {
          "base_uri": "https://localhost:8080/"
        },
        "id": "tXJsPTOAyVK1",
        "outputId": "7ada5488-3796-4443-b315-6a3794983e0c"
      },
      "id": "tXJsPTOAyVK1",
      "execution_count": null,
      "outputs": [
        {
          "output_type": "stream",
          "name": "stdout",
          "text": [
            "✅ Expression data preprocessing complete. Output saved as X_expr.csv\n"
          ]
        }
      ]
    },
    {
      "cell_type": "markdown",
      "source": [
        "## 4) Aligning matched tumor and normal samples"
      ],
      "metadata": {
        "id": "k3VsGVSXoQoN"
      },
      "id": "k3VsGVSXoQoN"
    },
    {
      "cell_type": "code",
      "execution_count": null,
      "id": "89c14d29-358b-45ac-83d3-482a74e5f815",
      "metadata": {
        "id": "89c14d29-358b-45ac-83d3-482a74e5f815"
      },
      "outputs": [],
      "source": [
        "# 1. Identify tumor and normal samples\n",
        "def extract_base_id(sample_id):\n",
        "    return \"-\".join(sample_id.split(\"-\")[:3])\n",
        "\n",
        "def extract_sample_type(sample_id):\n",
        "    sample_type_code = sample_id.split(\"-\")[3][:2]\n",
        "    return \"Normal\" if sample_type_code == \"11\" else \"Tumor\"\n",
        "\n",
        "X_meth['base_id'] = X_meth.index.map(extract_base_id)\n",
        "X_meth['sample_type'] = X_meth.index.map(extract_sample_type)\n",
        "X_expr['base_id'] = expr_df.index.map(extract_base_id)\n",
        "X_expr['sample_type'] = expr_df.index.map(extract_sample_type)"
      ]
    },
    {
      "cell_type": "code",
      "execution_count": null,
      "id": "a6cb2d77-162a-400a-877d-31784f3c56f0",
      "metadata": {
        "id": "a6cb2d77-162a-400a-877d-31784f3c56f0",
        "colab": {
          "base_uri": "https://localhost:8080/"
        },
        "outputId": "4bea846f-ca3e-4f19-ecbd-a2233da9b0f1"
      },
      "outputs": [
        {
          "output_type": "stream",
          "name": "stdout",
          "text": [
            "Tumor/Normal matched samples pair with methylation data: (29, 6)\n"
          ]
        }
      ],
      "source": [
        "# 2. Match tumor and normal pairs\n",
        "meth_meta = X_meth[['base_id', 'sample_type']].reset_index().rename(columns={'index': 'sample_id'})\n",
        "meth_tumor = meth_meta[meth_meta['sample_type'] == 'Tumor']\n",
        "meth_normal = meth_meta[meth_meta['sample_type'] == 'Normal']\n",
        "\n",
        "# Inner join to find matched base_ids\n",
        "matched = pd.merge(meth_tumor, meth_normal, on='base_id', suffixes=('_tumor', '_normal'))\n",
        "matched['has_normal_pair'] = True\n",
        "print('Tumor/Normal matched samples pair with methylation data:', matched.shape)"
      ]
    },
    {
      "cell_type": "code",
      "execution_count": null,
      "id": "a4a71842-b714-48da-8806-c330d9fba6c3",
      "metadata": {
        "id": "a4a71842-b714-48da-8806-c330d9fba6c3"
      },
      "outputs": [],
      "source": [
        "# 3. Subset methylation and expression to matched pairs\n",
        "matched_ids = matched['sample_id_tumor'].tolist() + matched['sample_id_normal'].tolist()\n",
        "meth_df_matched = X_meth.loc[matched_ids].drop(columns=['base_id', 'sample_type'])\n",
        "expr_df_matched = X_expr.loc[X_expr.index.isin(matched_ids)].drop(columns=['base_id', 'sample_type'])\n"
      ]
    },
    {
      "cell_type": "markdown",
      "source": [
        "Samples with matching expression and methylation data"
      ],
      "metadata": {
        "id": "m_S5_nKKAhgN"
      },
      "id": "m_S5_nKKAhgN"
    },
    {
      "cell_type": "code",
      "execution_count": null,
      "id": "52703bcc-0006-4ee9-9d10-d9eb0249b8a9",
      "metadata": {
        "colab": {
          "base_uri": "https://localhost:8080/"
        },
        "id": "52703bcc-0006-4ee9-9d10-d9eb0249b8a9",
        "outputId": "130ddc65-be2d-40d9-b6ea-e093fd98f4f2"
      },
      "outputs": [
        {
          "output_type": "stream",
          "name": "stdout",
          "text": [
            "✅ Saved:\n",
            "- 58 Methylation samples creating 29 pairs of Tumor/normal samples\n",
            "- 47 samples with expression and methylation data\n"
          ]
        }
      ],
      "source": [
        "# 4. Save outputs\n",
        "meth_df_matched.to_csv(\"methylation_data_matched.csv\")\n",
        "expr_df_matched.to_csv(\"expression_data_matched.csv\")\n",
        "matched.to_csv(\"matched_sample_metadata.csv\", index=False)\n",
        "\n",
        "print(f\"✅ Saved:\\n- {meth_df_matched.shape[0]} Methylation samples creating 29 pairs of Tumor/normal samples\\n- {expr_df_matched.shape[0]} samples with expression and methylation data\")"
      ]
    },
    {
      "cell_type": "code",
      "source": [
        "# 5.Save matched_sample_metadata.csv file in a long_format\n",
        "# Read the original wide-format CSV\n",
        "df = pd.read_csv(\"matched_sample_metadata.csv\")\n",
        "\n",
        "# Rename columns for clarity\n",
        "df.columns = [\"Tumor_sampleID\", \"PatientID\", \"Tumor_condition\", \"Normal_sampleID\", \"Normal_condition\", \"has_normal_pair\"]\n",
        "\n",
        "# Create two rows per patient: one for tumor, one for normal\n",
        "df_long = pd.DataFrame({\n",
        "    \"SampleID\": pd.concat([df[\"Tumor_sampleID\"], df[\"Normal_sampleID\"]], ignore_index=True),\n",
        "    \"Condition\": pd.concat([df[\"Tumor_condition\"], df[\"Normal_condition\"]], ignore_index=True),\n",
        "    \"PatientID\": pd.concat([df[\"PatientID\"], df[\"PatientID\"]], ignore_index=True)\n",
        "})\n",
        "\n",
        "# Save or preview\n",
        "df_long.to_csv(\"long_format_tumor_normal_samples.csv\", index=False)\n",
        "print(df_long.head())"
      ],
      "metadata": {
        "colab": {
          "base_uri": "https://localhost:8080/"
        },
        "id": "CrDSDVVdDAr7",
        "outputId": "8d0bae3f-e80a-497e-9917-6930c450d196"
      },
      "id": "CrDSDVVdDAr7",
      "execution_count": null,
      "outputs": [
        {
          "output_type": "stream",
          "name": "stdout",
          "text": [
            "          SampleID Condition     PatientID\n",
            "0  TCGA-44-6778-01     Tumor  TCGA-44-6778\n",
            "1  TCGA-50-5931-01     Tumor  TCGA-50-5931\n",
            "2  TCGA-44-6144-01     Tumor  TCGA-44-6144\n",
            "3  TCGA-44-2668-01     Tumor  TCGA-44-2668\n",
            "4  TCGA-44-2665-01     Tumor  TCGA-44-2665\n"
          ]
        }
      ]
    },
    {
      "cell_type": "code",
      "execution_count": null,
      "id": "4b8f92c1-5270-495f-9e36-07208b5be4eb",
      "metadata": {
        "colab": {
          "base_uri": "https://localhost:8080/"
        },
        "id": "4b8f92c1-5270-495f-9e36-07208b5be4eb",
        "outputId": "2032e1a9-3d00-48d0-c20b-f86c06351afc"
      },
      "outputs": [
        {
          "output_type": "stream",
          "name": "stdout",
          "text": [
            "Index(['sample_id_tumor', 'base_id', 'sample_type_tumor', 'sample_id_normal',\n",
            "       'sample_type_normal', 'has_normal_pair'],\n",
            "      dtype='object')\n",
            "Saved y_labels.csv\n"
          ]
        }
      ],
      "source": [
        "# 6. Save y labels for each sample\n",
        "# Label samples: tumor = 1, normal = 0\n",
        "import pandas as pd\n",
        "\n",
        "# Load your uploaded metadata file\n",
        "metadata_df = pd.read_csv(\"matched_sample_metadata.csv\")\n",
        "\n",
        "# Check the column names\n",
        "print(metadata_df.columns)\n",
        "\n",
        "# Assuming the file has columns like 'sample_id' and 'sample_type'\n",
        "# Modify the column names below to match yours exactly\n",
        "\n",
        "y_labels_t = metadata_df[[\"sample_id_tumor\", \"sample_type_tumor\"]].rename(columns={\"sample_id_tumor\": \"sample_id\" , \"sample_type_tumor\": \"label\"})\n",
        "y_labels_n = metadata_df[[\"sample_id_normal\", \"sample_type_normal\"]].rename(columns={\"sample_id_normal\": \"sample_id\" , \"sample_type_normal\": \"label\"})\n",
        "y_labels_df = pd.concat([y_labels_t, y_labels_n])\n",
        "y_labels_df = y_labels_df.reset_index(drop=True)\n",
        "y_labels_df[\"label\"] = y_labels_df[\"label\"].map({\"Tumor\": 1, \"Normal\": 0})\n",
        "\n",
        "y_labels_df.to_csv(\"y_labels.csv\", index=False)\n",
        "\n",
        "print(\"Saved y_labels.csv\")\n",
        "\n"
      ]
    }
  ],
  "metadata": {
    "kernelspec": {
      "display_name": "Python 3",
      "name": "python3"
    },
    "language_info": {
      "codemirror_mode": {
        "name": "ipython",
        "version": 3
      },
      "file_extension": ".py",
      "mimetype": "text/x-python",
      "name": "python",
      "nbconvert_exporter": "python",
      "pygments_lexer": "ipython3",
      "version": "3.11.13"
    },
    "colab": {
      "provenance": [],
      "machine_shape": "hm"
    }
  },
  "nbformat": 4,
  "nbformat_minor": 5
}